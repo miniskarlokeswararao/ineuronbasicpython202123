{
 "cells": [
  {
   "cell_type": "code",
   "execution_count": 8,
   "id": "3708e446-0d85-4594-a148-758a0063f381",
   "metadata": {},
   "outputs": [
    {
     "name": "stdout",
     "output_type": "stream",
     "text": [
      "Create a function that takes a number as an argument and returns True or False depending \n",
      " on whether the number is symmetrical or not.\n",
      "  A number is symmetrical when it is the same asits reverse.\n",
      "12321\n",
      "12321 == 12321\n",
      "76521\n",
      "12567 != 76521\n",
      "4444444444\n",
      "4444444444 == 4444444444\n"
     ]
    },
    {
     "data": {
      "text/plain": [
       "True"
      ]
     },
     "execution_count": 8,
     "metadata": {},
     "output_type": "execute_result"
    }
   ],
   "source": [
    "#assignment 23\n",
    "#assignment 22\n",
    "#assignment 21\n",
    "#assignment 20\n",
    "#assignment 19--->going to do\n",
    "print(\"--------------------------------------\")\n",
    "print(\"Create a function that takes a number as an argument and returns True or False depending \\n on whether the number is symmetrical or not.\\n  A number is symmetrical when it is the same asits reverse.\")\n",
    "def abc(a):\n",
    "    b=str(a)\n",
    "    c=b[::-1]\n",
    "    print(c)\n",
    "    if(int(a)==int(c)):\n",
    "        print(a,\"==\",c)\n",
    "        return True\n",
    "    else:\n",
    "        print(a,\"!=\",c)\n",
    "        return False\n",
    "abc(12321)\n",
    "abc(12567)\n",
    "abc(4444444444)"
   ]
  },
  {
   "cell_type": "code",
   "execution_count": 13,
   "id": "65dd7bad-049b-4d0c-9401-4c934cd524ea",
   "metadata": {},
   "outputs": [
    {
     "name": "stdout",
     "output_type": "stream",
     "text": [
      "Question 2\n",
      "Given a string of numbers separated by a comma and space, return the product of the numbers.\n",
      "Examples\n",
      "multiply_nums(\"2, 3\") ➞ 6\n",
      "----------------------------------------------------\n",
      "1 = 1 * 1\n",
      "1 = 1 * 2\n",
      "2 = 2 * 3\n",
      "6 = 6 * 4\n",
      "\n",
      " product of string number is = 24\n",
      "1 = 1 * -10\n",
      "-10 = -10 * 2\n",
      "\n",
      " product of string number is = -20\n"
     ]
    },
    {
     "data": {
      "text/plain": [
       "True"
      ]
     },
     "execution_count": 13,
     "metadata": {},
     "output_type": "execute_result"
    }
   ],
   "source": [
    "print('Question 2')\n",
    "print('Given a string of numbers separated by a comma and space, return the product of the numbers.')\n",
    "print('Examples')\n",
    "print('multiply_nums(\"2, 3\") ➞ 6')\n",
    "def calculate_product(number_string):\n",
    "    a=number_string.split(',')\n",
    "    pro=1\n",
    "    for n in a:\n",
    "        print(pro,\"=\",pro,\"*\",int(n))\n",
    "        pro=pro*int(n)\n",
    "    print(\"\\n product of string number is =\",pro)\n",
    "    return True\n",
    "print(\"----------------------------------------------------\")\n",
    "calculate_product(\"1, 2, 3, 4\")   \n",
    "calculate_product(\"-10 ,2\")\n",
    "\n",
    "\n"
   ]
  },
  {
   "cell_type": "code",
   "execution_count": 9,
   "id": "487a8675-c820-4d2d-8be9-3001e524b5e5",
   "metadata": {},
   "outputs": [
    {
     "name": "stdout",
     "output_type": "stream",
     "text": [
      "Create a function that squares every digit of a number.\n",
      " Examples \n",
      " square_digits(9119) ➞ 811181\n"
     ]
    },
    {
     "data": {
      "text/plain": [
       "811181"
      ]
     },
     "execution_count": 9,
     "metadata": {},
     "output_type": "execute_result"
    }
   ],
   "source": [
    "print('Create a function that squares every digit of a number.\\n Examples \\n square_digits(9119) ➞ 811181')\n",
    "def squaredigits(a):\n",
    "    b=str(a)\n",
    "    c=''\n",
    "    for i in b:\n",
    "        c=c+str(int(i)*int(i))\n",
    "    return int(c)\n",
    "squaredigits(9119)"
   ]
  },
  {
   "cell_type": "code",
   "execution_count": 22,
   "id": "7834eb86-79f1-4118-8aaf-76d988805424",
   "metadata": {},
   "outputs": [
    {
     "name": "stdout",
     "output_type": "stream",
     "text": [
      "Create a function that returns the mean of all digits. \n",
      " Examples  \n",
      " mean(42) ➞ 3\n",
      "('mean of sum of digits = ', 2.5)\n",
      "--------------------------\n"
     ]
    },
    {
     "data": {
      "text/plain": [
       "('mean of sum of digits = ', 6.0)"
      ]
     },
     "execution_count": 22,
     "metadata": {},
     "output_type": "execute_result"
    }
   ],
   "source": [
    "print('Create a function that returns the mean of all digits. \\n Examples  \\n mean(42) ➞ 3')\n",
    "def meansumofdigits(a):\n",
    "    b=str(a)\n",
    "    s=0\n",
    "    for c in b:\n",
    "        s=s+int(c)\n",
    "    g=s/len(b)\n",
    "    return 'mean of sum of digits = ',g\n",
    "ss=meansumofdigits(1234)\n",
    "print(ss)\n",
    "print('--------------------------')\n",
    "meansumofdigits(666)"
   ]
  },
  {
   "cell_type": "code",
   "execution_count": 24,
   "id": "5d690c73-205b-41d2-8cc2-c974ae05265a",
   "metadata": {},
   "outputs": [
    {
     "name": "stdout",
     "output_type": "stream",
     "text": [
      "Question 4 Create a function that sorts a list and removes all duplicate items from it.\n",
      " Examples\n",
      " setify([1, 3, 3, 5, 5]) ➞ [1, 3, 5]\n",
      "[1, 2, 3, 4, 5]\n"
     ]
    }
   ],
   "source": [
    "print('Question 4 Create a function that sorts a list and removes all duplicate items from it.\\n Examples\\n setify([1, 3, 3, 5, 5]) ➞ [1, 3, 5]')\n",
    "def sort_and_remove_duplicates(lst):\n",
    "    sorted_lst = sorted(lst)  # Sort the list\n",
    "    unique_lst = []\n",
    "    for item in sorted_lst:\n",
    "        if item not in unique_lst:\n",
    "            unique_lst.append(item)  # Add unique items to the new list\n",
    "    return unique_lst\n",
    "my_list = [4, 2, 1, 4, 3, 2, 5, 1]\n",
    "result = sort_and_remove_duplicates(my_list)\n",
    "print(result)\n"
   ]
  },
  {
   "cell_type": "code",
   "execution_count": null,
   "id": "cfee7562-d662-4709-a941-431449762d9d",
   "metadata": {},
   "outputs": [],
   "source": [
    "##assignment 22"
   ]
  },
  {
   "cell_type": "code",
   "execution_count": 32,
   "id": "702b0b8b-9aad-4e6a-8530-d6eae1b904f4",
   "metadata": {},
   "outputs": [
    {
     "name": "stdout",
     "output_type": "stream",
     "text": [
      "Question1\n",
      "Create a function that takes three parameters where:\n",
      " x is the start of the range (inclusive).\n",
      " y is the end of the range (inclusive).\n",
      " n is the divisor to be checked against.\n",
      "Return an ordered list with numbers in the range that are divisible by the third parameter n.\n",
      "Return an empty list if there are no numbers that are divisible by n.\n",
      "list_operation(1, 10, 3) ➞ [3, 6, 9]\n",
      "--------------------------------------------\n"
     ]
    },
    {
     "data": {
      "text/plain": [
       "[12, 15, 18, 21, 24, 27, 30, 33, 36, 39, 42]"
      ]
     },
     "execution_count": 32,
     "metadata": {},
     "output_type": "execute_result"
    }
   ],
   "source": [
    "print('Question1')\n",
    "print('Create a function that takes three parameters where:')\n",
    "print(' x is the start of the range (inclusive).')\n",
    "print(' y is the end of the range (inclusive).')\n",
    "print(' n is the divisor to be checked against.')\n",
    "print('Return an ordered list with numbers in the range that are divisible by the third parameter n.')\n",
    "print('Return an empty list if there are no numbers that are divisible by n.')\n",
    "print('list_operation(1, 10, 3) ➞ [3, 6, 9]')\n",
    "def divisiblebyn(x,y,n):\n",
    "    result=[]\n",
    "    for i in range(x,y+1):\n",
    "        if(i%n==0):\n",
    "            result.append(i)\n",
    "        \n",
    "            \n",
    "    return result\n",
    "print('--------------------------------------------')\n",
    "divisiblebyn(12,44,3)\n",
    "\n",
    "        \n",
    "    "
   ]
  },
  {
   "cell_type": "code",
   "execution_count": 35,
   "id": "dfe9f318-9cc9-4d96-8b69-0fdea725e6be",
   "metadata": {},
   "outputs": [
    {
     "data": {
      "text/plain": [
       "True"
      ]
     },
     "execution_count": 35,
     "metadata": {},
     "output_type": "execute_result"
    }
   ],
   "source": [
    "\"\"\"Create a function that takes in two lists and returns True if the second list follows the first list by one element, and False otherwise. In other words, determine if the second list is the first list shifted to the right by 1.\n",
    "Examples\n",
    "simon_says([1, 2], [5, 1]) ➞ True\n",
    "\n",
    "simon_says([1, 2], [5, 5]) ➞ False\n",
    "\n",
    "simon_says([1, 2, 3, 4, 5], [0, 1, 2, 3, 4]) ➞ True\n",
    "\n",
    "simon_says([1, 2, 3, 4, 5], [5, 5, 1, 2, 3]) ➞ False\n",
    "Notes\n",
    "•\tBoth input lists will be of the same length, and will have a minimum length of 2.\n",
    "•\tThe values of the 0-indexed element in the second list and the n-1th indexed element in the first list do not matter.\"\"\"\n",
    "def simon_says(list1, list2):\n",
    "    if list2[1:] == list1[:-1]:\n",
    "        return True\n",
    "    else:\n",
    "        return False\n",
    "simon_says([1, 2], [5, 1])"
   ]
  },
  {
   "cell_type": "code",
   "execution_count": 13,
   "id": "4817ed0a-b0e6-446e-8a6f-138da45ce15b",
   "metadata": {},
   "outputs": [
    {
     "name": "stdout",
     "output_type": "stream",
     "text": [
      "Question3 \n",
      " A group of friends have decided to start a secret society. The name will be the first letter of each of their names, sorted in alphabetical order.\n",
      " Create a function that takes in a list of names and returns the name of the secret society.\n",
      "\n",
      "----------------------------------------question 3------------------------------------------------------------\n",
      "sorted lis=  ['Adam', 'Malcolm', 'Sarah'] \n",
      " firstletterfortheallthelist= AMS\n"
     ]
    }
   ],
   "source": [
    "print('Question3 \\n A group of friends have decided to start a secret society. The name will be the first letter of each of their names, sorted in alphabetical order.\\n Create a function that takes in a list of names and returns the name of the secret society.')\n",
    "print('\\n----------------------------------------question 3------------------------------------------------------------')\n",
    "def secretsociety(aa):\n",
    "    bb=sorted(aa)\n",
    "    k=0;\n",
    "    v=''\n",
    "    for i in range(0,len(bb)):\n",
    "        c=bb[i][0]\n",
    "        v=v+c;\n",
    "    print(\"sorted lis= \",bb,\"\\n firstletterfortheallthelist=\",v)\n",
    "secretsociety([\"Adam\", \"Sarah\", \"Malcolm\"]) \n"
   ]
  },
  {
   "cell_type": "code",
   "execution_count": 56,
   "id": "7ccc1298-1545-41a8-96e7-7aa6e7ca58bf",
   "metadata": {},
   "outputs": [
    {
     "name": "stdout",
     "output_type": "stream",
     "text": [
      "An isogram is a word that has no duplicate letters.\n",
      "  Create a function that takes a string and returns either True or False depending on whether or not its an isogram\n",
      "True\n",
      "False\n"
     ]
    }
   ],
   "source": [
    "print('An isogram is a word that has no duplicate letters.\\n  Create a function that takes a string and returns either True or False depending on whether or not its an isogram')\n",
    "\n",
    "def isograma(aa):\n",
    "    bb = aa.lower()\n",
    "    for i in range(len(bb)):\n",
    "        for j in range(i + 1, len(bb)):\n",
    "            if bb[i] == bb[j]:\n",
    "                return False\n",
    "    return True\n",
    "\n",
    "print(isograma(\"Algorism\"))  # True\n",
    "print(isograma(\"PasSword\"))  # False\n",
    "    \n"
   ]
  },
  {
   "cell_type": "code",
   "execution_count": 15,
   "id": "eab7dac0-c39b-46c0-9918-98554b95afd4",
   "metadata": {},
   "outputs": [
    {
     "name": "stdout",
     "output_type": "stream",
     "text": [
      "Question5\n",
      "Create a function that takes a string and returns True or False, \n",
      " depending on whether the characters are in order or not.\n",
      "Examples\n",
      "is_in_order(\"abc\") ➞ True\n",
      "is_in_order(\"edabit\") ➞ False\n",
      "---------------------------------------------------\n",
      "97\n",
      "-----------------------------\n",
      "[97, 98, 100, 101, 105, 116]\n",
      "\n",
      " the string is not in the order= edabit\n",
      "False\n",
      "-------------------------\n",
      "[49, 50, 51]\n",
      "49 == 49\n",
      "\n",
      " string is in order= 123\n",
      "True\n",
      "----------------------------------\n"
     ]
    }
   ],
   "source": [
    "print('Question5')\n",
    "print('Create a function that takes a string and returns True or False, \\n depending on whether the characters are in order or not.')\n",
    "print('Examples')\n",
    "print('is_in_order(\"abc\") ➞ True')\n",
    "print('is_in_order(\"edabit\") ➞ False')\n",
    "print(\"---------------------------------------------------\")\n",
    "s='a'\n",
    "print(ord(s))\n",
    "def ordered(aa):\n",
    "    a=[]\n",
    "    bb=list(aa)\n",
    "    for i in range(0,len(bb)):\n",
    "        a.append(ord(bb[i]))\n",
    "    dd=sorted(a)\n",
    "    print(dd)\n",
    "    xy=''\n",
    "    for k in range(0,len(bb)):\n",
    "        if(dd[k]!=a[k]):\n",
    "            print('\\n the string is not in the order=',aa)\n",
    "            return False\n",
    "        else:\n",
    "            print(dd[k],\"==\",a[k])\n",
    "            print(\"\\n string is in order=\",aa)\n",
    "            return True\n",
    "print(\"-----------------------------\")    \n",
    "qs=ordered(\"edabit\")\n",
    "print(qs)\n",
    "print(\"-------------------------\")\n",
    "pq=ordered(\"123\")\n",
    "print(pq)\n",
    "print(\"----------------------------------\")\n",
    "\n",
    "\n",
    "\n"
   ]
  },
  {
   "cell_type": "code",
   "execution_count": 21,
   "id": "39024e15-26c3-4944-ad67-801be75a5c87",
   "metadata": {},
   "outputs": [
    {
     "name": "stdout",
     "output_type": "stream",
     "text": [
      "Question1 \n",
      " Write a function that takes a list and a number as arguments.\n",
      "  Add the number to the end ofthe list, then remove the first element of the list. The function should then return the updatedlist.\n",
      "Examples\n",
      "next_in_line([5, 6, 7, 8, 9], 1) ➞ [6, 7, 8, 9, 1]\n",
      "next_in_line([7, 6, 3, 23, 17], 10) ➞ [6, 3, 23, 17, 10]\n",
      "next_in_line([1, 10, 20, 42 ], 6) ➞ [10, 20, 42, 6]\n",
      "next_in_line([], 6) ➞ &quot;No list has been selected&quot;\n",
      "---------------------------------------------------------------------\n",
      "no list has been seleeted,cannot be appendee\n",
      "\n",
      " updated list is = [2, 3, 4, 89]\n"
     ]
    },
    {
     "data": {
      "text/plain": [
       "[2, 3, 4, 89]"
      ]
     },
     "execution_count": 21,
     "metadata": {},
     "output_type": "execute_result"
    }
   ],
   "source": [
    "#assignment 21\n",
    "print(\"Question1 \\n Write a function that takes a list and a number as arguments.\\n  Add the number to the end ofthe list, then remove the first element of the list. The function should then return the updatedlist.\")\n",
    "print('Examples')\n",
    "print('next_in_line([5, 6, 7, 8, 9], 1) ➞ [6, 7, 8, 9, 1]')\n",
    "print('next_in_line([7, 6, 3, 23, 17], 10) ➞ [6, 3, 23, 17, 10]')\n",
    "print('next_in_line([1, 10, 20, 42 ], 6) ➞ [10, 20, 42, 6]')\n",
    "print('next_in_line([], 6) ➞ &quot;No list has been selected&quot;')\n",
    "print(\"---------------------------------------------------------------------\")\n",
    "def updatethelist(abcd,q):\n",
    "    if(abcd==[]):\n",
    "        print('no list has been seleeted,cannot be appendee')\n",
    "    else:\n",
    "        abcd.remove(abcd[0])\n",
    "        abcd.append(q)\n",
    "        print(\"\\n updated list is =\",abcd)\n",
    "        return abcd\n",
    "updatethelist([],3)\n",
    "updatethelist([1,2,3,4],89)"
   ]
  },
  {
   "cell_type": "code",
   "execution_count": 34,
   "id": "36203f7c-9364-4502-a11b-f70740c5fd2b",
   "metadata": {},
   "outputs": [
    {
     "name": "stdout",
     "output_type": "stream",
     "text": [
      "Question2\n",
      "Create the function that takes a list of dictionaries and returns the sum of people&#39;s budgets.\n",
      "Examples\n",
      "----------------------------------------\n",
      "_________________________________________________\n",
      "{'name': 'anusha', 'age': 23, 'budget': 56000}\n",
      "---------------\n",
      "{'name': 'anu', 'age': 67, 'budget': 78000}\n",
      "---------------\n",
      "\n",
      " sum of the people budget =  134000\n"
     ]
    }
   ],
   "source": [
    "print('Question2')\n",
    "print('Create the function that takes a list of dictionaries and returns the sum of people&#39;s budgets.')\n",
    "print('Examples')\n",
    "\n",
    "print(\"----------------------------------------\")\n",
    "def abcdef(a):\n",
    "    bud=0;\n",
    "    for i in a:\n",
    "        print(i)\n",
    "        print(\"---------------\")\n",
    "        if 'budget' in i:\n",
    "            #print(i['budget'])\n",
    "            bud=bud+i['budget']\n",
    "            #print(\"\\n sum of the people budget = \",bud)\n",
    "    print(\"\\n sum of the people budget = \",bud)\n",
    "print(\"_________________________________________________\")\n",
    "abcdef([{'name':'anusha','age':23,'budget':56000},{'name':'anu','age':67,'budget':78000}])\n",
    "    "
   ]
  },
  {
   "cell_type": "code",
   "execution_count": 38,
   "id": "657f3e1f-e39b-4aab-ac9b-d54f74b352f3",
   "metadata": {},
   "outputs": [
    {
     "name": "stdout",
     "output_type": "stream",
     "text": [
      "Create a function that takes a string and returns a string with its letters in alphabetical order.\n",
      "orginal string = hello sorted string = ehllo\n",
      "orginal string = javascript sorted string = aacijprstv\n"
     ]
    },
    {
     "data": {
      "text/plain": [
       "'aacijprstv'"
      ]
     },
     "execution_count": 38,
     "metadata": {},
     "output_type": "execute_result"
    }
   ],
   "source": [
    "print('Create a function that takes a string and returns a string with its letters in alphabetical order.')\n",
    "a='acbd'\n",
    "def alphaorder(s):\n",
    "    d=sorted(s)\n",
    "    f=''\n",
    "    for i in d:\n",
    "        f=f+i;\n",
    "    print(\"orginal string =\",s,\"sorted string =\",f)\n",
    "    return f\n",
    "alphaorder('hello')\n",
    "alphaorder('javascript')"
   ]
  },
  {
   "cell_type": "code",
   "execution_count": 44,
   "id": "8faf02b9-9871-45e3-bca1-4aee25c5c0d4",
   "metadata": {},
   "outputs": [
    {
     "name": "stdout",
     "output_type": "stream",
     "text": [
      "\n",
      " number of year--->the compounding period =  6\n",
      "\n",
      " number of year--->the compounding period =  1\n"
     ]
    },
    {
     "data": {
      "text/plain": [
       "105.0"
      ]
     },
     "execution_count": 44,
     "metadata": {},
     "output_type": "execute_result"
    }
   ],
   "source": [
    "\"\"\"A = P * (1 + r/n)^(n*t)\n",
    "\n",
    "Where:\n",
    "A: The final value of the investment\n",
    "P: The principal amount (initial investment)\n",
    "r: The interest rate (in decimal form)\n",
    "n: The number of compounding periods per year\n",
    "t: The term in years\"\"\"\n",
    "def compoundinterset(principle,time,rate,n):\n",
    "    print(\"\\n number of year--->the compounding period = \",n)\n",
    "    amount=principle*((1+(rate/n))**(n*time))\n",
    "    return amount\n",
    "compoundinterset(29000,3,9.8,6)\n",
    "compoundinterset(100, 1, 0.05, 1)\n",
    "    "
   ]
  },
  {
   "cell_type": "code",
   "execution_count": 71,
   "id": "57c35a35-4b3b-4032-9024-d7e3db5745b6",
   "metadata": {},
   "outputs": [
    {
     "name": "stdout",
     "output_type": "stream",
     "text": [
      "Question5\n",
      "Write a function that takes a list of elements and returns only the integers.\n",
      "9\n",
      "2\n",
      "16\n"
     ]
    },
    {
     "data": {
      "text/plain": [
       "('integers in the list is =', [9, 2, 16])"
      ]
     },
     "execution_count": 71,
     "metadata": {},
     "output_type": "execute_result"
    }
   ],
   "source": [
    "print('Question5')\n",
    "print('Write a function that takes a list of elements and returns only the integers.')\n",
    "#def listinteger(acd):\n",
    "   # z=[]\n",
    "   # for i in range(0,len(acd)):\n",
    "        #if(acd[i]==int and acd[i]!=str):\n",
    "           # print(acd[i])\n",
    "           # z.append(acd[i])\n",
    "    #return z\n",
    "#def lint(acd):\n",
    "    #for i in range(0,len(acd)):\n",
    "        #print(acd[i])\n",
    "        #if(acd[i]==int(acd[i]) and acd[i]!=str(acd[i])):\n",
    "           # print(acd[i])\n",
    "        #else:\n",
    "            #print(acd[i],\"--->it has string also\")\n",
    "def lint(a):\n",
    "    z=[]\n",
    "    for i in range(0,len(a)):\n",
    "        if(type(a[i])==int):\n",
    "            print(a[i])\n",
    "            z.append(a[i])\n",
    "    return \"integers in the list is =\",z\n",
    "        \n",
    "lint([9, 2, \"abcdef\", 16])"
   ]
  },
  {
   "cell_type": "code",
   "execution_count": 91,
   "id": "5cbc6215-35ae-4dc3-955b-1d1467f5aaf9",
   "metadata": {},
   "outputs": [
    {
     "name": "stdout",
     "output_type": "stream",
     "text": [
      "9\n",
      "2\n",
      "16\n"
     ]
    },
    {
     "data": {
      "text/plain": [
       "('integers in the list is =', [9, 2, 16])"
      ]
     },
     "execution_count": 91,
     "metadata": {},
     "output_type": "execute_result"
    }
   ],
   "source": [
    "#assignment 20\n",
    "#Create a function that takes a list of strings and integers, and filters out the list so that it\n",
    "#returns a list of integers only.\n",
    "def lint(a):\n",
    "    z=[]\n",
    "    p=[]\n",
    "    for i in range(0,len(a)):\n",
    "        if(type(a[i])==int):\n",
    "            print(a[i])\n",
    "            z.append(a[i])\n",
    "    return \"integers in the list is =\",z\n",
    "   \n",
    "lint([9, 2, \"abcdef\", 16])"
   ]
  },
  {
   "cell_type": "code",
   "execution_count": 100,
   "id": "ba26b444-d111-48d3-889e-1c65e6b879f2",
   "metadata": {},
   "outputs": [
    {
     "name": "stdout",
     "output_type": "stream",
     "text": [
      "Question2\n",
      "Given a list of numbers, create a function which returns the list but with each element \n",
      " index in the list added to itself. This means you add 0 to the number at index 0, add 1 to thenumber at index 1, etc..\n",
      "Examples\n",
      "add_indexes([0, 0, 0, 0, 0]) ➞ [0, 1, 2, 3, 4]\n",
      "add_indexes([1, 2, 3, 4, 5]) ➞ [1, 3, 5, 7, 9]\n",
      "add_indexes([5, 4, 3, 2, 1]) ➞ [5, 5, 5, 5, 5]\n",
      "[2, 4, 7, 11, 16]\n"
     ]
    }
   ],
   "source": [
    "print('Question2')\n",
    "print('Given a list of numbers, create a function which returns the list but with each element \\n index in the list added to itself. This means you add 0 to the number at index 0, add 1 to thenumber at index 1, etc..')   \n",
    "print('Examples')\n",
    "print('add_indexes([0, 0, 0, 0, 0]) ➞ [0, 1, 2, 3, 4]')\n",
    "print('add_indexes([1, 2, 3, 4, 5]) ➞ [1, 3, 5, 7, 9]')\n",
    "print('add_indexes([5, 4, 3, 2, 1]) ➞ [5, 5, 5, 5, 5]')\n",
    "def abcdef(a):\n",
    "    z=1;\n",
    "    ab=[]\n",
    "    for i in range(0,len(a)):\n",
    "        z=z+a[i]\n",
    "        ab.append(z)\n",
    "    return ab\n",
    "abcdef([0,0,0,0,0])\n",
    "aa=abcdef([1,2,3,4,5])\n",
    "print(aa)\n",
    "        \n",
    "        "
   ]
  },
  {
   "cell_type": "code",
   "execution_count": 4,
   "id": "be3b4ee8-8950-44c2-9a8e-a05fc7a9d8bd",
   "metadata": {},
   "outputs": [
    {
     "name": "stdout",
     "output_type": "stream",
     "text": [
      "[1, 3, 5, 7, 9]\n"
     ]
    }
   ],
   "source": [
    "#question2\n",
    "#Given a list of numbers, create a function which returns the list but with each element \n",
    " #index in the list added to itself. This means you add 0 to the number at index 0, add 1 to thenumber at index 1\n",
    "def abc(a):\n",
    "    h=[]\n",
    "    for i in range(0,len(a)):\n",
    "        s=a[i]+i\n",
    "        h.append(s)\n",
    "    return h\n",
    "abc([0,0,0,0,0])  \n",
    "ss=abc([1,2,3,4,5])\n",
    "print(ss)"
   ]
  },
  {
   "cell_type": "code",
   "execution_count": 6,
   "id": "2df25f67-3ac9-41e3-bc77-3762ace5336c",
   "metadata": {},
   "outputs": [
    {
     "name": "stdout",
     "output_type": "stream",
     "text": [
      "volume of cube when radius is 24 height is 45 volume of cube is 27143.361\n"
     ]
    },
    {
     "data": {
      "text/plain": [
       "27143.361"
      ]
     },
     "execution_count": 6,
     "metadata": {},
     "output_type": "execute_result"
    }
   ],
   "source": [
    "#Question3\n",
    "#Create a function that takes the height and radius of a cone as arguments and returns the\n",
    "#volume of the cone rounded to the nearest hundredth. See the resources tab for the formula.\n",
    "import numpy as np\n",
    "def conee(radius,height):\n",
    "    volume=(1/3)*(np.pi)*(radius**2)*height\n",
    "    print(\"volume of cube when\",\"radius is\",radius,\"height is\",height,\"volume of cube is\",round(volume,3))\n",
    "    return round(volume,3)\n",
    "conee(24,45)\n",
    "    "
   ]
  },
  {
   "cell_type": "code",
   "execution_count": 18,
   "id": "a5b9cf21-1545-4acb-a1ad-b1d2aa25aeb2",
   "metadata": {},
   "outputs": [
    {
     "name": "stdout",
     "output_type": "stream",
     "text": [
      "Question4\n",
      "________________________________________________________________________________________________\n",
      "*******************************************************************************************\n",
      "91.0\n",
      "\n",
      "0.0\n",
      "*\n",
      "1.0\n",
      "***\n",
      "3.0\n",
      "******\n",
      "6.0\n",
      "**********\n",
      "10.0\n",
      "***************\n",
      "15.0\n",
      "*********************\n",
      "21.0\n",
      "****************************\n",
      "28.0\n",
      "************************************\n",
      "36.0\n",
      "*********************************************\n",
      "45.0\n",
      "*******************************************************\n",
      "55.0\n",
      "******************************************************************\n",
      "66.0\n"
     ]
    }
   ],
   "source": [
    "print(\"Question4\")\n",
    "\"\"\"This Triangular Number Sequence is generated from a pattern of dots that form a triangle.\n",
    "The first 5 numbers of the sequence, or dots, are:\n",
    "1, 3, 6, 10, 15\n",
    "This means that the first triangle has just one dot, the second one has three dots, the third one\n",
    "has 6 dots and so on.\n",
    "Write a function that gives the number of dots with its corresponding triangle number of the\n",
    "sequence.\n",
    "Examples\n",
    "triangle(1) ➞ 1\n",
    "triangle(6) ➞ 21\n",
    "triangle(215) ➞ 23220\"\"\"\n",
    "print(\"________________________________________________________________________________________________\")\n",
    "def triangle(a):\n",
    "    dd=a*(a+1)*(1/2);\n",
    "    for i in range(round(dd)):\n",
    "        print(\"*\",end='')\n",
    "    print()\n",
    "    print(dd)\n",
    "    return dd\n",
    "triangle(13)\n",
    "for k in range(0,12):\n",
    "    triangle(k)\n"
   ]
  },
  {
   "cell_type": "code",
   "execution_count": 19,
   "id": "1ebc40a5-4c4f-4771-9665-1f41775bd66d",
   "metadata": {},
   "outputs": [
    {
     "data": {
      "text/plain": [
       "5"
      ]
     },
     "execution_count": 19,
     "metadata": {},
     "output_type": "execute_result"
    }
   ],
   "source": [
    "#Create a function that takes a list of numbers between 1 and 10 (excluding one number) and\n",
    "#returns the missing number.\n",
    "def find_missing_number(numbers):\n",
    "    total_sum = sum(range(1, 11))  # Sum of numbers from 1 to 10\n",
    "    list_sum = sum(numbers)  # Sum of the given list of numbers\n",
    "    missing_number = total_sum - list_sum\n",
    "    return missing_number\n",
    "find_missing_number([1, 2, 3, 4, 6, 7, 8, 9, 10])"
   ]
  },
  {
   "cell_type": "code",
   "execution_count": null,
   "id": "41df72b9-dcbb-4094-93ea-ea05bb480841",
   "metadata": {},
   "outputs": [],
   "source": [
    "#assignment19"
   ]
  }
 ],
 "metadata": {
  "kernelspec": {
   "display_name": "Python 3 (ipykernel)",
   "language": "python",
   "name": "python3"
  },
  "language_info": {
   "codemirror_mode": {
    "name": "ipython",
    "version": 3
   },
   "file_extension": ".py",
   "mimetype": "text/x-python",
   "name": "python",
   "nbconvert_exporter": "python",
   "pygments_lexer": "ipython3",
   "version": "3.10.6"
  }
 },
 "nbformat": 4,
 "nbformat_minor": 5
}
